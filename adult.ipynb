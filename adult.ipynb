{
 "cells": [
  {
   "cell_type": "code",
   "execution_count": 1,
   "id": "769de0c2",
   "metadata": {
    "scrolled": true
   },
   "outputs": [
    {
     "name": "stdout",
     "output_type": "stream",
     "text": [
      "Requirement already satisfied: witwidget-gpu in c:\\python\\python39\\lib\\site-packages (1.6.0)\n",
      "Requirement already satisfied: oauth2client>=4.1.3 in c:\\python\\python39\\lib\\site-packages (from witwidget-gpu) (4.1.3)\n",
      "Requirement already satisfied: six>=1.12.0 in c:\\python\\python39\\lib\\site-packages (from witwidget-gpu) (1.15.0)\n",
      "Requirement already satisfied: tensorflow-gpu>=1.12.0 in c:\\python\\python39\\lib\\site-packages (from witwidget-gpu) (2.5.0)\n",
      "Requirement already satisfied: google-api-python-client>=1.7.8 in c:\\python\\python39\\lib\\site-packages (from witwidget-gpu) (2.13.0)\n",
      "Requirement already satisfied: absl-py>=0.4 in c:\\python\\python39\\lib\\site-packages (from witwidget-gpu) (0.13.0)\n",
      "Requirement already satisfied: jupyter<2,>=1.0 in c:\\python\\python39\\lib\\site-packages (from witwidget-gpu) (1.0.0)\n",
      "Requirement already satisfied: ipywidgets>=7.0.0 in c:\\python\\python39\\lib\\site-packages (from witwidget-gpu) (7.6.3)\n",
      "Requirement already satisfied: httplib2<1dev,>=0.15.0 in c:\\python\\python39\\lib\\site-packages (from google-api-python-client>=1.7.8->witwidget-gpu) (0.19.1)\n",
      "Requirement already satisfied: google-auth-httplib2>=0.1.0 in c:\\python\\python39\\lib\\site-packages (from google-api-python-client>=1.7.8->witwidget-gpu) (0.1.0)\n",
      "Requirement already satisfied: google-auth<2dev,>=1.16.0 in c:\\python\\python39\\lib\\site-packages (from google-api-python-client>=1.7.8->witwidget-gpu) (1.33.0)\n",
      "Requirement already satisfied: uritemplate<4dev,>=3.0.0 in c:\\python\\python39\\lib\\site-packages (from google-api-python-client>=1.7.8->witwidget-gpu) (3.0.1)\n",
      "Requirement already satisfied: google-api-core<2dev,>=1.21.0 in c:\\python\\python39\\lib\\site-packages (from google-api-python-client>=1.7.8->witwidget-gpu) (1.31.0)\n",
      "Requirement already satisfied: packaging>=14.3 in c:\\python\\python39\\lib\\site-packages (from google-api-core<2dev,>=1.21.0->google-api-python-client>=1.7.8->witwidget-gpu) (21.0)\n",
      "Requirement already satisfied: setuptools>=40.3.0 in c:\\python\\python39\\lib\\site-packages (from google-api-core<2dev,>=1.21.0->google-api-python-client>=1.7.8->witwidget-gpu) (49.2.1)\n",
      "Requirement already satisfied: requests<3.0.0dev,>=2.18.0 in c:\\python\\python39\\lib\\site-packages (from google-api-core<2dev,>=1.21.0->google-api-python-client>=1.7.8->witwidget-gpu) (2.26.0)\n",
      "Requirement already satisfied: googleapis-common-protos<2.0dev,>=1.6.0 in c:\\python\\python39\\lib\\site-packages (from google-api-core<2dev,>=1.21.0->google-api-python-client>=1.7.8->witwidget-gpu) (1.53.0)\n",
      "Requirement already satisfied: protobuf>=3.12.0 in c:\\python\\python39\\lib\\site-packages (from google-api-core<2dev,>=1.21.0->google-api-python-client>=1.7.8->witwidget-gpu) (3.17.3)\n",
      "Requirement already satisfied: pytz in c:\\python\\python39\\lib\\site-packages (from google-api-core<2dev,>=1.21.0->google-api-python-client>=1.7.8->witwidget-gpu) (2021.1)\n",
      "Requirement already satisfied: pyasn1-modules>=0.2.1 in c:\\python\\python39\\lib\\site-packages (from google-auth<2dev,>=1.16.0->google-api-python-client>=1.7.8->witwidget-gpu) (0.2.8)\n",
      "Requirement already satisfied: rsa<5,>=3.1.4 in c:\\python\\python39\\lib\\site-packages (from google-auth<2dev,>=1.16.0->google-api-python-client>=1.7.8->witwidget-gpu) (4.7.2)\n",
      "Requirement already satisfied: cachetools<5.0,>=2.0.0 in c:\\python\\python39\\lib\\site-packages (from google-auth<2dev,>=1.16.0->google-api-python-client>=1.7.8->witwidget-gpu) (4.2.2)\n",
      "Requirement already satisfied: pyparsing<3,>=2.4.2 in c:\\python\\python39\\lib\\site-packages (from httplib2<1dev,>=0.15.0->google-api-python-client>=1.7.8->witwidget-gpu) (2.4.7)\n",
      "Requirement already satisfied: ipykernel>=4.5.1 in c:\\python\\python39\\lib\\site-packages (from ipywidgets>=7.0.0->witwidget-gpu) (6.0.2)\n",
      "Requirement already satisfied: nbformat>=4.2.0 in c:\\python\\python39\\lib\\site-packages (from ipywidgets>=7.0.0->witwidget-gpu) (5.1.3)\n",
      "Requirement already satisfied: traitlets>=4.3.1 in c:\\python\\python39\\lib\\site-packages (from ipywidgets>=7.0.0->witwidget-gpu) (5.0.5)\n",
      "Requirement already satisfied: widgetsnbextension~=3.5.0 in c:\\python\\python39\\lib\\site-packages (from ipywidgets>=7.0.0->witwidget-gpu) (3.5.1)\n",
      "Requirement already satisfied: ipython>=4.0.0 in c:\\python\\python39\\lib\\site-packages (from ipywidgets>=7.0.0->witwidget-gpu) (7.25.0)\n",
      "Requirement already satisfied: jupyterlab-widgets>=1.0.0 in c:\\python\\python39\\lib\\site-packages (from ipywidgets>=7.0.0->witwidget-gpu) (1.0.0)\n",
      "Requirement already satisfied: tornado<7.0,>=4.2 in c:\\python\\python39\\lib\\site-packages (from ipykernel>=4.5.1->ipywidgets>=7.0.0->witwidget-gpu) (6.1)\n",
      "Requirement already satisfied: debugpy<2.0,>=1.0.0 in c:\\python\\python39\\lib\\site-packages (from ipykernel>=4.5.1->ipywidgets>=7.0.0->witwidget-gpu) (1.3.0)\n",
      "Requirement already satisfied: jupyter-client<7.0 in c:\\python\\python39\\lib\\site-packages (from ipykernel>=4.5.1->ipywidgets>=7.0.0->witwidget-gpu) (6.1.12)\n",
      "Requirement already satisfied: matplotlib-inline<0.2.0,>=0.1.0 in c:\\python\\python39\\lib\\site-packages (from ipykernel>=4.5.1->ipywidgets>=7.0.0->witwidget-gpu) (0.1.2)\n",
      "Requirement already satisfied: colorama in c:\\python\\python39\\lib\\site-packages (from ipython>=4.0.0->ipywidgets>=7.0.0->witwidget-gpu) (0.4.4)\n",
      "Requirement already satisfied: pickleshare in c:\\python\\python39\\lib\\site-packages (from ipython>=4.0.0->ipywidgets>=7.0.0->witwidget-gpu) (0.7.5)\n",
      "Requirement already satisfied: decorator in c:\\python\\python39\\lib\\site-packages (from ipython>=4.0.0->ipywidgets>=7.0.0->witwidget-gpu) (5.0.9)\n",
      "Requirement already satisfied: jedi>=0.16 in c:\\python\\python39\\lib\\site-packages (from ipython>=4.0.0->ipywidgets>=7.0.0->witwidget-gpu) (0.18.0)\n",
      "Requirement already satisfied: pygments in c:\\python\\python39\\lib\\site-packages (from ipython>=4.0.0->ipywidgets>=7.0.0->witwidget-gpu) (2.9.0)\n",
      "Requirement already satisfied: prompt-toolkit!=3.0.0,!=3.0.1,<3.1.0,>=2.0.0 in c:\\python\\python39\\lib\\site-packages (from ipython>=4.0.0->ipywidgets>=7.0.0->witwidget-gpu) (3.0.19)\n",
      "Requirement already satisfied: backcall in c:\\python\\python39\\lib\\site-packages (from ipython>=4.0.0->ipywidgets>=7.0.0->witwidget-gpu) (0.2.0)\n",
      "Requirement already satisfied: parso<0.9.0,>=0.8.0 in c:\\python\\python39\\lib\\site-packages (from jedi>=0.16->ipython>=4.0.0->ipywidgets>=7.0.0->witwidget-gpu) (0.8.2)\n",
      "Requirement already satisfied: notebook in c:\\python\\python39\\lib\\site-packages (from jupyter<2,>=1.0->witwidget-gpu) (6.4.0)\n",
      "Requirement already satisfied: nbconvert in c:\\python\\python39\\lib\\site-packages (from jupyter<2,>=1.0->witwidget-gpu) (6.1.0)\n",
      "Requirement already satisfied: jupyter-console in c:\\python\\python39\\lib\\site-packages (from jupyter<2,>=1.0->witwidget-gpu) (6.4.0)\n",
      "Requirement already satisfied: qtconsole in c:\\python\\python39\\lib\\site-packages (from jupyter<2,>=1.0->witwidget-gpu) (5.1.1)\n",
      "Requirement already satisfied: jupyter-core>=4.6.0 in c:\\python\\python39\\lib\\site-packages (from jupyter-client<7.0->ipykernel>=4.5.1->ipywidgets>=7.0.0->witwidget-gpu) (4.7.1)\n",
      "Requirement already satisfied: pyzmq>=13 in c:\\python\\python39\\lib\\site-packages (from jupyter-client<7.0->ipykernel>=4.5.1->ipywidgets>=7.0.0->witwidget-gpu) (22.1.0)\n",
      "Requirement already satisfied: python-dateutil>=2.1 in c:\\python\\python39\\lib\\site-packages (from jupyter-client<7.0->ipykernel>=4.5.1->ipywidgets>=7.0.0->witwidget-gpu) (2.8.2)\n",
      "Requirement already satisfied: pywin32>=1.0 in c:\\python\\python39\\lib\\site-packages (from jupyter-core>=4.6.0->jupyter-client<7.0->ipykernel>=4.5.1->ipywidgets>=7.0.0->witwidget-gpu) (301)\n",
      "Requirement already satisfied: ipython-genutils in c:\\python\\python39\\lib\\site-packages (from nbformat>=4.2.0->ipywidgets>=7.0.0->witwidget-gpu) (0.2.0)\n",
      "Requirement already satisfied: jsonschema!=2.5.0,>=2.4 in c:\\python\\python39\\lib\\site-packages (from nbformat>=4.2.0->ipywidgets>=7.0.0->witwidget-gpu) (3.2.0)\n",
      "Requirement already satisfied: attrs>=17.4.0 in c:\\python\\python39\\lib\\site-packages (from jsonschema!=2.5.0,>=2.4->nbformat>=4.2.0->ipywidgets>=7.0.0->witwidget-gpu) (21.2.0)\n",
      "Requirement already satisfied: pyrsistent>=0.14.0 in c:\\python\\python39\\lib\\site-packages (from jsonschema!=2.5.0,>=2.4->nbformat>=4.2.0->ipywidgets>=7.0.0->witwidget-gpu) (0.18.0)\n",
      "Requirement already satisfied: pyasn1>=0.1.7 in c:\\python\\python39\\lib\\site-packages (from oauth2client>=4.1.3->witwidget-gpu) (0.4.8)\n",
      "Requirement already satisfied: wcwidth in c:\\python\\python39\\lib\\site-packages (from prompt-toolkit!=3.0.0,!=3.0.1,<3.1.0,>=2.0.0->ipython>=4.0.0->ipywidgets>=7.0.0->witwidget-gpu) (0.2.5)\n",
      "Requirement already satisfied: certifi>=2017.4.17 in c:\\python\\python39\\lib\\site-packages (from requests<3.0.0dev,>=2.18.0->google-api-core<2dev,>=1.21.0->google-api-python-client>=1.7.8->witwidget-gpu) (2021.5.30)\n",
      "Requirement already satisfied: urllib3<1.27,>=1.21.1 in c:\\python\\python39\\lib\\site-packages (from requests<3.0.0dev,>=2.18.0->google-api-core<2dev,>=1.21.0->google-api-python-client>=1.7.8->witwidget-gpu) (1.26.6)\n",
      "Requirement already satisfied: charset-normalizer~=2.0.0 in c:\\python\\python39\\lib\\site-packages (from requests<3.0.0dev,>=2.18.0->google-api-core<2dev,>=1.21.0->google-api-python-client>=1.7.8->witwidget-gpu) (2.0.3)\n",
      "Requirement already satisfied: idna<4,>=2.5 in c:\\python\\python39\\lib\\site-packages (from requests<3.0.0dev,>=2.18.0->google-api-core<2dev,>=1.21.0->google-api-python-client>=1.7.8->witwidget-gpu) (3.2)\n",
      "Requirement already satisfied: termcolor~=1.1.0 in c:\\python\\python39\\lib\\site-packages (from tensorflow-gpu>=1.12.0->witwidget-gpu) (1.1.0)\n",
      "Requirement already satisfied: google-pasta~=0.2 in c:\\python\\python39\\lib\\site-packages (from tensorflow-gpu>=1.12.0->witwidget-gpu) (0.2.0)\n",
      "Requirement already satisfied: typing-extensions~=3.7.4 in c:\\python\\python39\\lib\\site-packages (from tensorflow-gpu>=1.12.0->witwidget-gpu) (3.7.4.3)\n",
      "Requirement already satisfied: wheel~=0.35 in c:\\python\\python39\\lib\\site-packages (from tensorflow-gpu>=1.12.0->witwidget-gpu) (0.36.2)\n",
      "Requirement already satisfied: keras-preprocessing~=1.1.2 in c:\\python\\python39\\lib\\site-packages (from tensorflow-gpu>=1.12.0->witwidget-gpu) (1.1.2)\n",
      "Requirement already satisfied: h5py~=3.1.0 in c:\\python\\python39\\lib\\site-packages (from tensorflow-gpu>=1.12.0->witwidget-gpu) (3.1.0)\n",
      "Requirement already satisfied: gast==0.4.0 in c:\\python\\python39\\lib\\site-packages (from tensorflow-gpu>=1.12.0->witwidget-gpu) (0.4.0)\n",
      "Requirement already satisfied: keras-nightly~=2.5.0.dev in c:\\python\\python39\\lib\\site-packages (from tensorflow-gpu>=1.12.0->witwidget-gpu) (2.5.0.dev2021032900)\n",
      "Requirement already satisfied: numpy~=1.19.2 in c:\\python\\python39\\lib\\site-packages (from tensorflow-gpu>=1.12.0->witwidget-gpu) (1.19.5)\n",
      "Requirement already satisfied: opt-einsum~=3.3.0 in c:\\python\\python39\\lib\\site-packages (from tensorflow-gpu>=1.12.0->witwidget-gpu) (3.3.0)\n",
      "Requirement already satisfied: wrapt~=1.12.1 in c:\\python\\python39\\lib\\site-packages (from tensorflow-gpu>=1.12.0->witwidget-gpu) (1.12.1)\n",
      "Requirement already satisfied: astunparse~=1.6.3 in c:\\python\\python39\\lib\\site-packages (from tensorflow-gpu>=1.12.0->witwidget-gpu) (1.6.3)\n",
      "Requirement already satisfied: flatbuffers~=1.12.0 in c:\\python\\python39\\lib\\site-packages (from tensorflow-gpu>=1.12.0->witwidget-gpu) (1.12)\n",
      "Requirement already satisfied: tensorflow-estimator<2.6.0,>=2.5.0rc0 in c:\\python\\python39\\lib\\site-packages (from tensorflow-gpu>=1.12.0->witwidget-gpu) (2.5.0)\n",
      "Requirement already satisfied: tensorboard~=2.5 in c:\\python\\python39\\lib\\site-packages (from tensorflow-gpu>=1.12.0->witwidget-gpu) (2.5.0)\n",
      "Requirement already satisfied: grpcio~=1.34.0 in c:\\python\\python39\\lib\\site-packages (from tensorflow-gpu>=1.12.0->witwidget-gpu) (1.34.1)\n",
      "Requirement already satisfied: google-auth-oauthlib<0.5,>=0.4.1 in c:\\python\\python39\\lib\\site-packages (from tensorboard~=2.5->tensorflow-gpu>=1.12.0->witwidget-gpu) (0.4.4)\n",
      "Requirement already satisfied: tensorboard-plugin-wit>=1.6.0 in c:\\python\\python39\\lib\\site-packages (from tensorboard~=2.5->tensorflow-gpu>=1.12.0->witwidget-gpu) (1.8.0)\n",
      "Requirement already satisfied: werkzeug>=0.11.15 in c:\\python\\python39\\lib\\site-packages (from tensorboard~=2.5->tensorflow-gpu>=1.12.0->witwidget-gpu) (2.0.1)\n",
      "Requirement already satisfied: tensorboard-data-server<0.7.0,>=0.6.0 in c:\\python\\python39\\lib\\site-packages (from tensorboard~=2.5->tensorflow-gpu>=1.12.0->witwidget-gpu) (0.6.1)\n",
      "Requirement already satisfied: markdown>=2.6.8 in c:\\python\\python39\\lib\\site-packages (from tensorboard~=2.5->tensorflow-gpu>=1.12.0->witwidget-gpu) (3.3.4)\n",
      "Requirement already satisfied: requests-oauthlib>=0.7.0 in c:\\python\\python39\\lib\\site-packages (from google-auth-oauthlib<0.5,>=0.4.1->tensorboard~=2.5->tensorflow-gpu>=1.12.0->witwidget-gpu) (1.3.0)\n",
      "Requirement already satisfied: oauthlib>=3.0.0 in c:\\python\\python39\\lib\\site-packages (from requests-oauthlib>=0.7.0->google-auth-oauthlib<0.5,>=0.4.1->tensorboard~=2.5->tensorflow-gpu>=1.12.0->witwidget-gpu) (3.1.1)\n",
      "Requirement already satisfied: jinja2 in c:\\python\\python39\\lib\\site-packages (from notebook->jupyter<2,>=1.0->witwidget-gpu) (3.0.1)\n",
      "Requirement already satisfied: argon2-cffi in c:\\python\\python39\\lib\\site-packages (from notebook->jupyter<2,>=1.0->witwidget-gpu) (20.1.0)\n",
      "Requirement already satisfied: terminado>=0.8.3 in c:\\python\\python39\\lib\\site-packages (from notebook->jupyter<2,>=1.0->witwidget-gpu) (0.10.1)\n",
      "Requirement already satisfied: prometheus-client in c:\\python\\python39\\lib\\site-packages (from notebook->jupyter<2,>=1.0->witwidget-gpu) (0.11.0)\n",
      "Requirement already satisfied: Send2Trash>=1.5.0 in c:\\python\\python39\\lib\\site-packages (from notebook->jupyter<2,>=1.0->witwidget-gpu) (1.7.1)\n",
      "Requirement already satisfied: pywinpty>=1.1.0 in c:\\python\\python39\\lib\\site-packages (from terminado>=0.8.3->notebook->jupyter<2,>=1.0->witwidget-gpu) (1.1.3)\n",
      "Requirement already satisfied: cffi>=1.0.0 in c:\\python\\python39\\lib\\site-packages (from argon2-cffi->notebook->jupyter<2,>=1.0->witwidget-gpu) (1.14.6)\n",
      "Requirement already satisfied: pycparser in c:\\python\\python39\\lib\\site-packages (from cffi>=1.0.0->argon2-cffi->notebook->jupyter<2,>=1.0->witwidget-gpu) (2.20)\n",
      "Requirement already satisfied: MarkupSafe>=2.0 in c:\\python\\python39\\lib\\site-packages (from jinja2->notebook->jupyter<2,>=1.0->witwidget-gpu) (2.0.1)\n",
      "Requirement already satisfied: pandocfilters>=1.4.1 in c:\\python\\python39\\lib\\site-packages (from nbconvert->jupyter<2,>=1.0->witwidget-gpu) (1.4.3)\n",
      "Requirement already satisfied: nbclient<0.6.0,>=0.5.0 in c:\\python\\python39\\lib\\site-packages (from nbconvert->jupyter<2,>=1.0->witwidget-gpu) (0.5.3)\n",
      "Requirement already satisfied: bleach in c:\\python\\python39\\lib\\site-packages (from nbconvert->jupyter<2,>=1.0->witwidget-gpu) (3.3.1)\n",
      "Requirement already satisfied: mistune<2,>=0.8.1 in c:\\python\\python39\\lib\\site-packages (from nbconvert->jupyter<2,>=1.0->witwidget-gpu) (0.8.4)\n",
      "Requirement already satisfied: testpath in c:\\python\\python39\\lib\\site-packages (from nbconvert->jupyter<2,>=1.0->witwidget-gpu) (0.5.0)\n",
      "Requirement already satisfied: defusedxml in c:\\python\\python39\\lib\\site-packages (from nbconvert->jupyter<2,>=1.0->witwidget-gpu) (0.7.1)\n",
      "Requirement already satisfied: jupyterlab-pygments in c:\\python\\python39\\lib\\site-packages (from nbconvert->jupyter<2,>=1.0->witwidget-gpu) (0.1.2)\n",
      "Requirement already satisfied: entrypoints>=0.2.2 in c:\\python\\python39\\lib\\site-packages (from nbconvert->jupyter<2,>=1.0->witwidget-gpu) (0.3)\n",
      "Requirement already satisfied: nest-asyncio in c:\\python\\python39\\lib\\site-packages (from nbclient<0.6.0,>=0.5.0->nbconvert->jupyter<2,>=1.0->witwidget-gpu) (1.5.1)\n",
      "Requirement already satisfied: async-generator in c:\\python\\python39\\lib\\site-packages (from nbclient<0.6.0,>=0.5.0->nbconvert->jupyter<2,>=1.0->witwidget-gpu) (1.10)\n",
      "Requirement already satisfied: webencodings in c:\\python\\python39\\lib\\site-packages (from bleach->nbconvert->jupyter<2,>=1.0->witwidget-gpu) (0.5.1)\n",
      "Requirement already satisfied: qtpy in c:\\python\\python39\\lib\\site-packages (from qtconsole->jupyter<2,>=1.0->witwidget-gpu) (1.9.0)\n"
     ]
    },
    {
     "name": "stderr",
     "output_type": "stream",
     "text": [
      "2021-07-18 23:00:41.343633: W tensorflow/stream_executor/platform/default/dso_loader.cc:64] Could not load dynamic library 'cudart64_110.dll'; dlerror: cudart64_110.dll not found\n",
      "2021-07-18 23:00:41.343687: I tensorflow/stream_executor/cuda/cudart_stub.cc:29] Ignore above cudart dlerror if you do not have a GPU set up on your machine.\n",
      "Installing c:\\python\\python39\\lib\\site-packages\\witwidget\\static -> wit-widget\n",
      "- Validating: ok\n",
      "\n",
      "    To initialize this nbextension in the browser every time the notebook (or other app) loads:\n",
      "    \n",
      "          jupyter nbextension enable witwidget --py --sys-prefix\n",
      "    \n",
      "2021-07-18 23:00:45.308853: W tensorflow/stream_executor/platform/default/dso_loader.cc:64] Could not load dynamic library 'cudart64_110.dll'; dlerror: cudart64_110.dll not found\n",
      "2021-07-18 23:00:45.308897: I tensorflow/stream_executor/cuda/cudart_stub.cc:29] Ignore above cudart dlerror if you do not have a GPU set up on your machine.\n",
      "Enabling notebook extension wit-widget/extension...\n",
      "      - Validating: ok\n"
     ]
    }
   ],
   "source": [
    "!pip install witwidget-gpu\n",
    "!jupyter nbextension install --py --symlink --sys-prefix witwidget\n",
    "!jupyter nbextension enable --py --sys-prefix witwidget"
   ]
  },
  {
   "cell_type": "code",
   "execution_count": 2,
   "id": "f7c8529c",
   "metadata": {},
   "outputs": [
    {
     "name": "stdout",
     "output_type": "stream",
     "text": [
      "Requirement already satisfied: pandas in c:\\python\\python39\\lib\\site-packages (1.3.0)\n",
      "Requirement already satisfied: python-dateutil>=2.7.3 in c:\\python\\python39\\lib\\site-packages (from pandas) (2.8.2)\n",
      "Requirement already satisfied: numpy>=1.17.3 in c:\\python\\python39\\lib\\site-packages (from pandas) (1.19.5)\n",
      "Requirement already satisfied: pytz>=2017.3 in c:\\python\\python39\\lib\\site-packages (from pandas) (2021.1)\n",
      "Requirement already satisfied: six>=1.5 in c:\\python\\python39\\lib\\site-packages (from python-dateutil>=2.7.3->pandas) (1.15.0)\n"
     ]
    }
   ],
   "source": [
    "!pip install pandas"
   ]
  },
  {
   "cell_type": "code",
   "execution_count": 3,
   "id": "b1232031",
   "metadata": {},
   "outputs": [],
   "source": [
    "import witwidget\n",
    "\n",
    "from witwidget.notebook.visualization import WitWidget, WitConfigBuilder"
   ]
  },
  {
   "cell_type": "code",
   "execution_count": 4,
   "id": "2158258a",
   "metadata": {},
   "outputs": [],
   "source": [
    "import csv\n",
    "import json\n",
    "\n",
    "jsonFilePath = open('adultData.json', 'w')\n",
    "\n",
    "data={}\n",
    "\n",
    "columns = [ \n",
    "            \"age\",\n",
    "            \"workclass\", \n",
    "            \"fnlwgt\", \n",
    "            \"education\", \n",
    "            \"education-num\", \n",
    "            \"marital-status\", \n",
    "            \"occupation\", \n",
    "            \"relationship\", \n",
    "            \"race\" , \n",
    "            \"sex\", \n",
    "            \"capital-gain\", \n",
    "            \"capital-loss\", \n",
    "            \"hours-per-week\",\n",
    "            \"native-country\",\n",
    "            \">50K, <=50K\"]\n",
    "\n",
    "\n",
    "with open(\"adult.data\") as csv_file:\n",
    "    csv_reader = csv.DictReader(csv_file,columns)\n",
    "    count = 0\n",
    "    for row in csv_reader:       \n",
    "            json.dump(row, jsonFilePath)\n",
    "            jsonFilePath.write('\\n')"
   ]
  },
  {
   "cell_type": "code",
   "execution_count": 5,
   "id": "160312a3",
   "metadata": {},
   "outputs": [
    {
     "data": {
      "text/html": [
       "<div>\n",
       "<style scoped>\n",
       "    .dataframe tbody tr th:only-of-type {\n",
       "        vertical-align: middle;\n",
       "    }\n",
       "\n",
       "    .dataframe tbody tr th {\n",
       "        vertical-align: top;\n",
       "    }\n",
       "\n",
       "    .dataframe thead th {\n",
       "        text-align: right;\n",
       "    }\n",
       "</style>\n",
       "<table border=\"1\" class=\"dataframe\">\n",
       "  <thead>\n",
       "    <tr style=\"text-align: right;\">\n",
       "      <th></th>\n",
       "      <th>age</th>\n",
       "      <th>workclass</th>\n",
       "      <th>fnlwgt</th>\n",
       "      <th>education</th>\n",
       "      <th>education-num</th>\n",
       "      <th>marital-status</th>\n",
       "      <th>occupation</th>\n",
       "      <th>relationship</th>\n",
       "      <th>race</th>\n",
       "      <th>sex</th>\n",
       "      <th>capital-gain</th>\n",
       "      <th>capital-loss</th>\n",
       "      <th>hours-per-week</th>\n",
       "      <th>native-country</th>\n",
       "      <th>50K</th>\n",
       "    </tr>\n",
       "  </thead>\n",
       "  <tbody>\n",
       "    <tr>\n",
       "      <th>0</th>\n",
       "      <td>39</td>\n",
       "      <td>State-gov</td>\n",
       "      <td>77516</td>\n",
       "      <td>Bachelors</td>\n",
       "      <td>13</td>\n",
       "      <td>Never-married</td>\n",
       "      <td>Adm-clerical</td>\n",
       "      <td>Not-in-family</td>\n",
       "      <td>White</td>\n",
       "      <td>Male</td>\n",
       "      <td>2174</td>\n",
       "      <td>0</td>\n",
       "      <td>40</td>\n",
       "      <td>United-States</td>\n",
       "      <td>&lt;=50K</td>\n",
       "    </tr>\n",
       "    <tr>\n",
       "      <th>1</th>\n",
       "      <td>50</td>\n",
       "      <td>Self-emp-not-inc</td>\n",
       "      <td>83311</td>\n",
       "      <td>Bachelors</td>\n",
       "      <td>13</td>\n",
       "      <td>Married-civ-spouse</td>\n",
       "      <td>Exec-managerial</td>\n",
       "      <td>Husband</td>\n",
       "      <td>White</td>\n",
       "      <td>Male</td>\n",
       "      <td>0</td>\n",
       "      <td>0</td>\n",
       "      <td>13</td>\n",
       "      <td>United-States</td>\n",
       "      <td>&lt;=50K</td>\n",
       "    </tr>\n",
       "    <tr>\n",
       "      <th>2</th>\n",
       "      <td>38</td>\n",
       "      <td>Private</td>\n",
       "      <td>215646</td>\n",
       "      <td>HS-grad</td>\n",
       "      <td>9</td>\n",
       "      <td>Divorced</td>\n",
       "      <td>Handlers-cleaners</td>\n",
       "      <td>Not-in-family</td>\n",
       "      <td>White</td>\n",
       "      <td>Male</td>\n",
       "      <td>0</td>\n",
       "      <td>0</td>\n",
       "      <td>40</td>\n",
       "      <td>United-States</td>\n",
       "      <td>&lt;=50K</td>\n",
       "    </tr>\n",
       "    <tr>\n",
       "      <th>3</th>\n",
       "      <td>53</td>\n",
       "      <td>Private</td>\n",
       "      <td>234721</td>\n",
       "      <td>11th</td>\n",
       "      <td>7</td>\n",
       "      <td>Married-civ-spouse</td>\n",
       "      <td>Handlers-cleaners</td>\n",
       "      <td>Husband</td>\n",
       "      <td>Black</td>\n",
       "      <td>Male</td>\n",
       "      <td>0</td>\n",
       "      <td>0</td>\n",
       "      <td>40</td>\n",
       "      <td>United-States</td>\n",
       "      <td>&lt;=50K</td>\n",
       "    </tr>\n",
       "    <tr>\n",
       "      <th>4</th>\n",
       "      <td>28</td>\n",
       "      <td>Private</td>\n",
       "      <td>338409</td>\n",
       "      <td>Bachelors</td>\n",
       "      <td>13</td>\n",
       "      <td>Married-civ-spouse</td>\n",
       "      <td>Prof-specialty</td>\n",
       "      <td>Wife</td>\n",
       "      <td>Black</td>\n",
       "      <td>Female</td>\n",
       "      <td>0</td>\n",
       "      <td>0</td>\n",
       "      <td>40</td>\n",
       "      <td>Cuba</td>\n",
       "      <td>&lt;=50K</td>\n",
       "    </tr>\n",
       "  </tbody>\n",
       "</table>\n",
       "</div>"
      ],
      "text/plain": [
       "   age          workclass  fnlwgt   education  education-num  \\\n",
       "0   39          State-gov   77516   Bachelors             13   \n",
       "1   50   Self-emp-not-inc   83311   Bachelors             13   \n",
       "2   38            Private  215646     HS-grad              9   \n",
       "3   53            Private  234721        11th              7   \n",
       "4   28            Private  338409   Bachelors             13   \n",
       "\n",
       "        marital-status          occupation    relationship    race      sex  \\\n",
       "0        Never-married        Adm-clerical   Not-in-family   White     Male   \n",
       "1   Married-civ-spouse     Exec-managerial         Husband   White     Male   \n",
       "2             Divorced   Handlers-cleaners   Not-in-family   White     Male   \n",
       "3   Married-civ-spouse   Handlers-cleaners         Husband   Black     Male   \n",
       "4   Married-civ-spouse      Prof-specialty            Wife   Black   Female   \n",
       "\n",
       "   capital-gain  capital-loss  hours-per-week  native-country     50K  \n",
       "0          2174             0              40   United-States   <=50K  \n",
       "1             0             0              13   United-States   <=50K  \n",
       "2             0             0              40   United-States   <=50K  \n",
       "3             0             0              40   United-States   <=50K  \n",
       "4             0             0              40            Cuba   <=50K  "
      ]
     },
     "execution_count": 5,
     "metadata": {},
     "output_type": "execute_result"
    }
   ],
   "source": [
    "import tensorflow as tf\n",
    "from tensorflow.keras import layers\n",
    "from tensorflow.keras.layers.experimental import preprocessing\n",
    "\n",
    "import numpy as np\n",
    "import IPython.display as display\n",
    "import pandas as pd\n",
    "\n",
    "adults_train = pd.read_csv(\"https://archive.ics.uci.edu/ml/machine-learning-databases/adult/adult.data\", \n",
    "                    names=[\"age\",\"workclass\",\"fnlwgt\",\"education\",\"education-num\",\"marital-status\", \n",
    "                            \"occupation\",\"relationship\",\"race\",\"sex\",\"capital-gain\",\"capital-loss\", \n",
    "                            \"hours-per-week\",\"native-country\",\"50K\"])\n",
    "\n",
    "adults_train.head()\n"
   ]
  },
  {
   "cell_type": "code",
   "execution_count": 6,
   "id": "20343f98",
   "metadata": {
    "scrolled": true
   },
   "outputs": [],
   "source": [
    "adults_features = adults_train.copy()\n",
    "adults_labels = adults_features.pop('age')"
   ]
  },
  {
   "cell_type": "code",
   "execution_count": 7,
   "id": "316b1ae3",
   "metadata": {},
   "outputs": [
    {
     "data": {
      "text/plain": [
       "<KerasTensor: shape=(None,) dtype=float32 (created by layer 'tf.__operators__.add')>"
      ]
     },
     "execution_count": 7,
     "metadata": {},
     "output_type": "execute_result"
    }
   ],
   "source": [
    "# Create a symbolic input\n",
    "input = tf.keras.Input(shape=(), dtype=tf.float32)\n",
    "\n",
    "# Do a calculation using is\n",
    "result = 2*input + 1\n",
    "\n",
    "# the result doesn't have a value\n",
    "result"
   ]
  },
  {
   "cell_type": "code",
   "execution_count": 8,
   "id": "141e1f83",
   "metadata": {},
   "outputs": [],
   "source": [
    "calc = tf.keras.Model(inputs=input, outputs=result)"
   ]
  },
  {
   "cell_type": "code",
   "execution_count": 9,
   "id": "9304c3b7",
   "metadata": {},
   "outputs": [
    {
     "data": {
      "text/plain": [
       "{'workclass': <KerasTensor: shape=(None, 1) dtype=string (created by layer 'workclass')>,\n",
       " 'fnlwgt': <KerasTensor: shape=(None, 1) dtype=float32 (created by layer 'fnlwgt')>,\n",
       " 'education': <KerasTensor: shape=(None, 1) dtype=string (created by layer 'education')>,\n",
       " 'education-num': <KerasTensor: shape=(None, 1) dtype=float32 (created by layer 'education-num')>,\n",
       " 'marital-status': <KerasTensor: shape=(None, 1) dtype=string (created by layer 'marital-status')>,\n",
       " 'occupation': <KerasTensor: shape=(None, 1) dtype=string (created by layer 'occupation')>,\n",
       " 'relationship': <KerasTensor: shape=(None, 1) dtype=string (created by layer 'relationship')>,\n",
       " 'race': <KerasTensor: shape=(None, 1) dtype=string (created by layer 'race')>,\n",
       " 'sex': <KerasTensor: shape=(None, 1) dtype=string (created by layer 'sex')>,\n",
       " 'capital-gain': <KerasTensor: shape=(None, 1) dtype=float32 (created by layer 'capital-gain')>,\n",
       " 'capital-loss': <KerasTensor: shape=(None, 1) dtype=float32 (created by layer 'capital-loss')>,\n",
       " 'hours-per-week': <KerasTensor: shape=(None, 1) dtype=float32 (created by layer 'hours-per-week')>,\n",
       " 'native-country': <KerasTensor: shape=(None, 1) dtype=string (created by layer 'native-country')>,\n",
       " '50K': <KerasTensor: shape=(None, 1) dtype=string (created by layer '50K')>}"
      ]
     },
     "execution_count": 9,
     "metadata": {},
     "output_type": "execute_result"
    }
   ],
   "source": [
    "inputs = {}\n",
    "\n",
    "for name, column in adults_features.items():\n",
    "  dtype = column.dtype\n",
    "  if dtype == object:\n",
    "    dtype = tf.string\n",
    "  else:\n",
    "    dtype = tf.float32\n",
    "\n",
    "  inputs[name] = tf.keras.Input(shape=(1,), name=name, dtype=dtype)\n",
    "\n",
    "inputs"
   ]
  },
  {
   "cell_type": "code",
   "execution_count": 10,
   "id": "d8edfc7f",
   "metadata": {},
   "outputs": [
    {
     "data": {
      "text/plain": [
       "<KerasTensor: shape=(None, 5) dtype=float32 (created by layer 'normalization')>"
      ]
     },
     "execution_count": 10,
     "metadata": {},
     "output_type": "execute_result"
    }
   ],
   "source": [
    "numeric_inputs = {name:input for name,input in inputs.items()\n",
    "                  if input.dtype==tf.float32}\n",
    "\n",
    "x = layers.Concatenate()(list(numeric_inputs.values()))\n",
    "norm = preprocessing.Normalization()\n",
    "norm.adapt(np.array(adults_train[numeric_inputs.keys()]))\n",
    "all_numeric_inputs = norm(x)\n",
    "\n",
    "all_numeric_inputs"
   ]
  },
  {
   "cell_type": "code",
   "execution_count": 11,
   "id": "321bc467",
   "metadata": {
    "scrolled": false
   },
   "outputs": [],
   "source": [
    "calc = tf.keras.Model(inputs=input, outputs=result)\n"
   ]
  },
  {
   "cell_type": "code",
   "execution_count": 12,
   "id": "460fe79d",
   "metadata": {},
   "outputs": [
    {
     "name": "stdout",
     "output_type": "stream",
     "text": [
      "3.0\n",
      "5.0\n"
     ]
    }
   ],
   "source": [
    "print(calc(1).numpy())\n",
    "print(calc(2).numpy())"
   ]
  },
  {
   "cell_type": "code",
   "execution_count": 13,
   "id": "d4724028",
   "metadata": {},
   "outputs": [
    {
     "data": {
      "text/plain": [
       "{'workclass': <KerasTensor: shape=(None, 1) dtype=string (created by layer 'workclass')>,\n",
       " 'fnlwgt': <KerasTensor: shape=(None, 1) dtype=float32 (created by layer 'fnlwgt')>,\n",
       " 'education': <KerasTensor: shape=(None, 1) dtype=string (created by layer 'education')>,\n",
       " 'education-num': <KerasTensor: shape=(None, 1) dtype=float32 (created by layer 'education-num')>,\n",
       " 'marital-status': <KerasTensor: shape=(None, 1) dtype=string (created by layer 'marital-status')>,\n",
       " 'occupation': <KerasTensor: shape=(None, 1) dtype=string (created by layer 'occupation')>,\n",
       " 'relationship': <KerasTensor: shape=(None, 1) dtype=string (created by layer 'relationship')>,\n",
       " 'race': <KerasTensor: shape=(None, 1) dtype=string (created by layer 'race')>,\n",
       " 'sex': <KerasTensor: shape=(None, 1) dtype=string (created by layer 'sex')>,\n",
       " 'capital-gain': <KerasTensor: shape=(None, 1) dtype=float32 (created by layer 'capital-gain')>,\n",
       " 'capital-loss': <KerasTensor: shape=(None, 1) dtype=float32 (created by layer 'capital-loss')>,\n",
       " 'hours-per-week': <KerasTensor: shape=(None, 1) dtype=float32 (created by layer 'hours-per-week')>,\n",
       " 'native-country': <KerasTensor: shape=(None, 1) dtype=string (created by layer 'native-country')>,\n",
       " '50K': <KerasTensor: shape=(None, 1) dtype=string (created by layer '50K')>}"
      ]
     },
     "execution_count": 13,
     "metadata": {},
     "output_type": "execute_result"
    }
   ],
   "source": [
    "inputs = {}\n",
    "\n",
    "for name, column in adults_features.items():\n",
    "  dtype = column.dtype\n",
    "  if dtype == object:\n",
    "    dtype = tf.string\n",
    "  else:\n",
    "    dtype = tf.float32\n",
    "\n",
    "  inputs[name] = tf.keras.Input(shape=(1,), name=name, dtype=dtype)\n",
    "\n",
    "inputs"
   ]
  },
  {
   "cell_type": "code",
   "execution_count": 14,
   "id": "ece7327a",
   "metadata": {},
   "outputs": [
    {
     "data": {
      "text/plain": [
       "<KerasTensor: shape=(None, 5) dtype=float32 (created by layer 'normalization_1')>"
      ]
     },
     "execution_count": 14,
     "metadata": {},
     "output_type": "execute_result"
    }
   ],
   "source": [
    "numeric_inputs = {name:input for name,input in inputs.items()\n",
    "                  if input.dtype==tf.float32}\n",
    "\n",
    "x = layers.Concatenate()(list(numeric_inputs.values()))\n",
    "norm = preprocessing.Normalization()\n",
    "norm.adapt(np.array(adults_train[numeric_inputs.keys()]))\n",
    "all_numeric_inputs = norm(x)\n",
    "\n",
    "all_numeric_inputs"
   ]
  },
  {
   "cell_type": "code",
   "execution_count": 15,
   "id": "4b4c58eb",
   "metadata": {},
   "outputs": [],
   "source": [
    "preprocessed_inputs = [all_numeric_inputs]"
   ]
  },
  {
   "cell_type": "code",
   "execution_count": 16,
   "id": "b3830b2c",
   "metadata": {},
   "outputs": [
    {
     "name": "stdout",
     "output_type": "stream",
     "text": [
      "WARNING:tensorflow:vocab_size is deprecated, please use vocabulary_size.\n",
      "WARNING:tensorflow:max_tokens is deprecated, please use num_tokens instead.\n",
      "WARNING:tensorflow:vocab_size is deprecated, please use vocabulary_size.\n",
      "WARNING:tensorflow:max_tokens is deprecated, please use num_tokens instead.\n",
      "WARNING:tensorflow:vocab_size is deprecated, please use vocabulary_size.\n",
      "WARNING:tensorflow:max_tokens is deprecated, please use num_tokens instead.\n",
      "WARNING:tensorflow:vocab_size is deprecated, please use vocabulary_size.\n",
      "WARNING:tensorflow:max_tokens is deprecated, please use num_tokens instead.\n",
      "WARNING:tensorflow:vocab_size is deprecated, please use vocabulary_size.\n",
      "WARNING:tensorflow:max_tokens is deprecated, please use num_tokens instead.\n",
      "WARNING:tensorflow:vocab_size is deprecated, please use vocabulary_size.\n",
      "WARNING:tensorflow:max_tokens is deprecated, please use num_tokens instead.\n",
      "WARNING:tensorflow:vocab_size is deprecated, please use vocabulary_size.\n",
      "WARNING:tensorflow:max_tokens is deprecated, please use num_tokens instead.\n",
      "WARNING:tensorflow:vocab_size is deprecated, please use vocabulary_size.\n",
      "WARNING:tensorflow:max_tokens is deprecated, please use num_tokens instead.\n",
      "WARNING:tensorflow:vocab_size is deprecated, please use vocabulary_size.\n",
      "WARNING:tensorflow:max_tokens is deprecated, please use num_tokens instead.\n"
     ]
    }
   ],
   "source": [
    "for name, input in inputs.items():\n",
    "  if input.dtype == tf.float32:\n",
    "    continue\n",
    "\n",
    "  lookup = preprocessing.StringLookup(vocabulary=np.unique(adults_features[name]))\n",
    "  one_hot = preprocessing.CategoryEncoding(max_tokens=lookup.vocab_size())\n",
    "\n",
    "  x = lookup(input)\n",
    "  x = one_hot(x)\n",
    "  preprocessed_inputs.append(x)"
   ]
  },
  {
   "cell_type": "code",
   "execution_count": 17,
   "id": "e12e4159",
   "metadata": {
    "scrolled": true
   },
   "outputs": [
    {
     "name": "stdout",
     "output_type": "stream",
     "text": [
      "('You must install pydot (`pip install pydot`) and install graphviz (see instructions at https://graphviz.gitlab.io/download/) ', 'for plot_model/model_to_dot to work.')\n"
     ]
    }
   ],
   "source": [
    "preprocessed_inputs_cat = layers.Concatenate()(preprocessed_inputs)\n",
    "\n",
    "adults_preprocessing = tf.keras.Model(inputs, preprocessed_inputs_cat)\n",
    "\n",
    "tf.keras.utils.plot_model(model = adults_preprocessing , rankdir=\"LR\", dpi=72, show_shapes=True)"
   ]
  },
  {
   "cell_type": "code",
   "execution_count": 18,
   "id": "4d6ec9b1",
   "metadata": {
    "scrolled": false
   },
   "outputs": [],
   "source": [
    "adults_features_dict = {name: np.array(value) \n",
    "                         for name, value in adults_features.items()}\n"
   ]
  },
  {
   "cell_type": "code",
   "execution_count": 19,
   "id": "819c5906",
   "metadata": {},
   "outputs": [
    {
     "data": {
      "text/plain": [
       "<tf.Tensor: shape=(1, 127), dtype=float32, numpy=\n",
       "array([[-1.0636126 ,  1.1347412 ,  0.14845309, -0.21665974, -0.03542657,\n",
       "         0.        ,  0.        ,  0.        ,  0.        ,  0.        ,\n",
       "         0.        ,  0.        ,  0.        ,  0.        ,  1.        ,\n",
       "         0.        ,  0.        ,  0.        ,  0.        ,  0.        ,\n",
       "         0.        ,  0.        ,  0.        ,  0.        ,  0.        ,\n",
       "         0.        ,  0.        ,  1.        ,  0.        ,  0.        ,\n",
       "         0.        ,  0.        ,  0.        ,  0.        ,  0.        ,\n",
       "         0.        ,  0.        ,  0.        ,  0.        ,  0.        ,\n",
       "         1.        ,  0.        ,  0.        ,  0.        ,  0.        ,\n",
       "         0.        ,  1.        ,  0.        ,  0.        ,  0.        ,\n",
       "         0.        ,  0.        ,  0.        ,  0.        ,  0.        ,\n",
       "         0.        ,  0.        ,  0.        ,  0.        ,  0.        ,\n",
       "         0.        ,  0.        ,  0.        ,  1.        ,  0.        ,\n",
       "         0.        ,  0.        ,  0.        ,  0.        ,  0.        ,\n",
       "         0.        ,  0.        ,  0.        ,  0.        ,  1.        ,\n",
       "         0.        ,  0.        ,  0.        ,  1.        ,  0.        ,\n",
       "         0.        ,  0.        ,  0.        ,  0.        ,  0.        ,\n",
       "         0.        ,  0.        ,  0.        ,  0.        ,  0.        ,\n",
       "         0.        ,  0.        ,  0.        ,  0.        ,  0.        ,\n",
       "         0.        ,  0.        ,  0.        ,  0.        ,  0.        ,\n",
       "         0.        ,  0.        ,  0.        ,  0.        ,  0.        ,\n",
       "         0.        ,  0.        ,  0.        ,  0.        ,  0.        ,\n",
       "         0.        ,  0.        ,  0.        ,  0.        ,  0.        ,\n",
       "         0.        ,  0.        ,  0.        ,  0.        ,  0.        ,\n",
       "         1.        ,  0.        ,  0.        ,  0.        ,  0.        ,\n",
       "         1.        ,  0.        ]], dtype=float32)>"
      ]
     },
     "execution_count": 19,
     "metadata": {},
     "output_type": "execute_result"
    }
   ],
   "source": [
    "features_dict = {name:values[:1] for name, values in adults_features_dict.items()}\n",
    "adults_preprocessing(features_dict)"
   ]
  },
  {
   "cell_type": "code",
   "execution_count": 20,
   "id": "5966872c",
   "metadata": {},
   "outputs": [],
   "source": [
    "def adult_model(preprocessing_head, inputs):\n",
    "  body = tf.keras.Sequential([\n",
    "    layers.Dense(64),\n",
    "    layers.Dense(1)\n",
    "  ])\n",
    "\n",
    "  preprocessed_inputs = preprocessing_head(inputs)\n",
    "  result = body(preprocessed_inputs)\n",
    "  model = tf.keras.Model(inputs, result)\n",
    "\n",
    "  model.compile(loss=tf.losses.BinaryCrossentropy(from_logits=True),\n",
    "                optimizer=tf.optimizers.Adam())\n",
    "  return model\n",
    "\n",
    "adult_model = adult_model(adults_preprocessing, inputs)"
   ]
  },
  {
   "cell_type": "code",
   "execution_count": 21,
   "id": "78a795a5",
   "metadata": {
    "scrolled": false
   },
   "outputs": [
    {
     "name": "stdout",
     "output_type": "stream",
     "text": [
      "Epoch 1/10\n",
      "1018/1018 [==============================] - 3s 2ms/step - loss: -19843.7305\n",
      "Epoch 2/10\n",
      "1018/1018 [==============================] - 2s 2ms/step - loss: -129663.4688\n",
      "Epoch 3/10\n",
      "1018/1018 [==============================] - 2s 2ms/step - loss: -323662.5000\n",
      "Epoch 4/10\n",
      "1018/1018 [==============================] - 2s 2ms/step - loss: -584839.2500\n",
      "Epoch 5/10\n",
      "1018/1018 [==============================] - 2s 2ms/step - loss: -905072.8750\n",
      "Epoch 6/10\n",
      "1018/1018 [==============================] - 2s 2ms/step - loss: -1280199.3750\n",
      "Epoch 7/10\n",
      "1018/1018 [==============================] - 2s 2ms/step - loss: -1708130.6250\n",
      "Epoch 8/10\n",
      "1018/1018 [==============================] - 2s 2ms/step - loss: -2187771.7500\n",
      "Epoch 9/10\n",
      "1018/1018 [==============================] - 2s 2ms/step - loss: -2718537.7500\n",
      "Epoch 10/10\n",
      "1018/1018 [==============================] - 2s 2ms/step - loss: -3299982.0000\n"
     ]
    },
    {
     "data": {
      "text/plain": [
       "<tensorflow.python.keras.callbacks.History at 0x20de6dd80a0>"
      ]
     },
     "execution_count": 21,
     "metadata": {},
     "output_type": "execute_result"
    }
   ],
   "source": [
    "adult_model.fit(x=adults_features_dict, y=adults_labels, epochs=10)"
   ]
  },
  {
   "cell_type": "code",
   "execution_count": 22,
   "id": "b24fdf72",
   "metadata": {},
   "outputs": [
    {
     "name": "stderr",
     "output_type": "stream",
     "text": [
      "WARNING:absl:Function `_wrapped_model` contains input name(s) 50K, capital-gain, capital-loss, education-num, hours-per-week, marital-status, native-country with unsupported characters which will be renamed to k, capital_gain, capital_loss, education_num, hours_per_week, marital_status, native_country in the SavedModel.\n"
     ]
    },
    {
     "name": "stdout",
     "output_type": "stream",
     "text": [
      "INFO:tensorflow:Assets written to: adultTestModel\\assets\n"
     ]
    },
    {
     "name": "stderr",
     "output_type": "stream",
     "text": [
      "INFO:tensorflow:Assets written to: adultTestModel\\assets\n"
     ]
    }
   ],
   "source": [
    "adult_model.save('adultTestModel')\n",
    "reloaded = tf.keras.models.load_model('adultTestModel')"
   ]
  },
  {
   "cell_type": "code",
   "execution_count": 26,
   "id": "8fcdf48c",
   "metadata": {
    "scrolled": false
   },
   "outputs": [
    {
     "name": "stdout",
     "output_type": "stream",
     "text": [
      "tf.Tensor([[98946.914]], shape=(1, 1), dtype=float32)\n",
      "tf.Tensor([[98946.914]], shape=(1, 1), dtype=float32)\n"
     ]
    }
   ],
   "source": [
    "features_dict = {name:values[:1] for name, values in adults_features_dict.items()}\n",
    "\n",
    "before = adult_model(features_dict)\n",
    "after = reloaded(features_dict)\n",
    "assert (before-after)<1e-3\n",
    "print(before)\n",
    "print(after)"
   ]
  },
  {
   "cell_type": "code",
   "execution_count": 27,
   "id": "4480a4eb",
   "metadata": {},
   "outputs": [],
   "source": [
    "import itertools\n",
    "\n",
    "def slices(features):\n",
    "  for i in itertools.count():\n",
    "    # For each feature take index `i`\n",
    "    example = {name:values[i] for name, values in features.items()}\n",
    "    yield example"
   ]
  },
  {
   "cell_type": "code",
   "execution_count": 29,
   "id": "d1a24265",
   "metadata": {},
   "outputs": [
    {
     "name": "stdout",
     "output_type": "stream",
     "text": [
      "workclass          :  State-gov\n",
      "fnlwgt             : 77516\n",
      "education          :  Bachelors\n",
      "education-num      : 13\n",
      "marital-status     :  Never-married\n",
      "occupation         :  Adm-clerical\n",
      "relationship       :  Not-in-family\n",
      "race               :  White\n",
      "sex                :  Male\n",
      "capital-gain       : 2174\n",
      "capital-loss       : 0\n",
      "hours-per-week     : 40\n",
      "native-country     :  United-States\n",
      "50K                :  <=50K\n"
     ]
    }
   ],
   "source": [
    "for example in slices(adults_features_dict):\n",
    "  for name, value in example.items():\n",
    "    print(f\"{name:19s}: {value}\")\n",
    "  break"
   ]
  },
  {
   "cell_type": "code",
   "execution_count": 30,
   "id": "226840a8",
   "metadata": {},
   "outputs": [],
   "source": [
    "features_ds = tf.data.Dataset.from_tensor_slices(adults_features_dict)\n"
   ]
  },
  {
   "cell_type": "code",
   "execution_count": 31,
   "id": "42ed54ee",
   "metadata": {},
   "outputs": [
    {
     "name": "stdout",
     "output_type": "stream",
     "text": [
      "workclass          : b' State-gov'\n",
      "fnlwgt             : 77516\n",
      "education          : b' Bachelors'\n",
      "education-num      : 13\n",
      "marital-status     : b' Never-married'\n",
      "occupation         : b' Adm-clerical'\n",
      "relationship       : b' Not-in-family'\n",
      "race               : b' White'\n",
      "sex                : b' Male'\n",
      "capital-gain       : 2174\n",
      "capital-loss       : 0\n",
      "hours-per-week     : 40\n",
      "native-country     : b' United-States'\n",
      "50K                : b' <=50K'\n"
     ]
    }
   ],
   "source": [
    "for example in features_ds:\n",
    "  for name, value in example.items():\n",
    "    print(f\"{name:19s}: {value}\")\n",
    "  break"
   ]
  },
  {
   "cell_type": "code",
   "execution_count": 32,
   "id": "dc15cf24",
   "metadata": {},
   "outputs": [],
   "source": [
    "adults_ds = tf.data.Dataset.from_tensor_slices((adults_features_dict, adults_labels))"
   ]
  },
  {
   "cell_type": "code",
   "execution_count": 33,
   "id": "1151210c",
   "metadata": {},
   "outputs": [],
   "source": [
    "adults_batches = adults_ds.shuffle(len(adults_labels)).batch(32)"
   ]
  },
  {
   "cell_type": "code",
   "execution_count": 34,
   "id": "8b06b2d5",
   "metadata": {},
   "outputs": [
    {
     "name": "stdout",
     "output_type": "stream",
     "text": [
      "Epoch 1/5\n",
      "1018/1018 [==============================] - 2s 2ms/step - loss: -3931652.0000\n",
      "Epoch 2/5\n",
      "1018/1018 [==============================] - 2s 2ms/step - loss: -4613335.0000\n",
      "Epoch 3/5\n",
      "1018/1018 [==============================] - 2s 2ms/step - loss: -5344431.5000\n",
      "Epoch 4/5\n",
      "1018/1018 [==============================] - 2s 2ms/step - loss: -6124911.0000\n",
      "Epoch 5/5\n",
      "1018/1018 [==============================] - 2s 2ms/step - loss: -6954987.0000\n"
     ]
    },
    {
     "data": {
      "text/plain": [
       "<tensorflow.python.keras.callbacks.History at 0x20df1d29b50>"
      ]
     },
     "execution_count": 34,
     "metadata": {},
     "output_type": "execute_result"
    }
   ],
   "source": [
    "adult_model.fit(adults_batches, epochs=5)\n"
   ]
  },
  {
   "cell_type": "code",
   "execution_count": null,
   "id": "1c472e84",
   "metadata": {},
   "outputs": [],
   "source": []
  }
 ],
 "metadata": {
  "kernelspec": {
   "display_name": "Python 3 (ipykernel)",
   "language": "python",
   "name": "python3"
  },
  "language_info": {
   "codemirror_mode": {
    "name": "ipython",
    "version": 3
   },
   "file_extension": ".py",
   "mimetype": "text/x-python",
   "name": "python",
   "nbconvert_exporter": "python",
   "pygments_lexer": "ipython3",
   "version": "3.9.4"
  }
 },
 "nbformat": 4,
 "nbformat_minor": 5
}
