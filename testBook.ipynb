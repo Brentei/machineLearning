{
 "cells": [
  {
   "cell_type": "code",
   "execution_count": null,
   "id": "385c844a",
   "metadata": {},
   "outputs": [],
   "source": [
    "pip install witwidget-gpu\n",
    "jupyter nbextension install --py --symlink --sys-prefix witwidget\n",
    "jupyter nbextension enable --py --sys-prefix witwidget"
   ]
  },
  {
   "cell_type": "code",
   "execution_count": null,
   "id": "800ca75b",
   "metadata": {},
   "outputs": [],
   "source": [
    "def adjust_prediction(pred):\n",
    "  return [1 - pred, pred]"
   ]
  },
  {
   "cell_type": "code",
   "execution_count": 2,
   "id": "6a4a236f",
   "metadata": {},
   "outputs": [],
   "source": [
    "import witwidget\n",
    "import tensorflow as tf\n",
    "from tensorflow.keras import layers\n",
    "from tensorflow.keras.layers.experimental import preprocessing\n",
    "\n",
    "import numpy as np\n",
    "import IPython.display as display\n",
    "import pandas as pd"
   ]
  },
  {
   "cell_type": "code",
   "execution_count": 17,
   "id": "a456d5ef",
   "metadata": {
    "scrolled": true
   },
   "outputs": [],
   "source": [
    "\n",
    "adults_file_path = tf.keras.utils.get_file(\"adult_test.csv\", \"http://localhost:8888/edit/adult/adult_test.csv\")"
   ]
  },
  {
   "cell_type": "code",
   "execution_count": 18,
   "id": "1e07201d",
   "metadata": {},
   "outputs": [
    {
     "ename": "ValueError",
     "evalue": "Problem inferring types: CSV row has different number of fields than expected.",
     "output_type": "error",
     "traceback": [
      "\u001b[1;31m---------------------------------------------------------------------------\u001b[0m",
      "\u001b[1;31mValueError\u001b[0m                                Traceback (most recent call last)",
      "\u001b[1;32m~\\AppData\\Local\\Temp/ipykernel_12728/3491245572.py\u001b[0m in \u001b[0;36m<module>\u001b[1;34m\u001b[0m\n\u001b[1;32m----> 1\u001b[1;33m adult_csv_ds = tf.data.experimental.make_csv_dataset(\n\u001b[0m\u001b[0;32m      2\u001b[0m     \u001b[0madults_file_path\u001b[0m\u001b[1;33m,\u001b[0m\u001b[1;33m\u001b[0m\u001b[1;33m\u001b[0m\u001b[0m\n\u001b[0;32m      3\u001b[0m     \u001b[0mbatch_size\u001b[0m\u001b[1;33m=\u001b[0m\u001b[1;36m5\u001b[0m\u001b[1;33m,\u001b[0m \u001b[1;31m# Artificially small to make examples easier to show.\u001b[0m\u001b[1;33m\u001b[0m\u001b[1;33m\u001b[0m\u001b[0m\n\u001b[0;32m      4\u001b[0m     \u001b[0mlabel_name\u001b[0m\u001b[1;33m=\u001b[0m\u001b[1;34m'age'\u001b[0m\u001b[1;33m,\u001b[0m\u001b[1;33m\u001b[0m\u001b[1;33m\u001b[0m\u001b[0m\n\u001b[0;32m      5\u001b[0m     \u001b[0mnum_epochs\u001b[0m\u001b[1;33m=\u001b[0m\u001b[1;36m1\u001b[0m\u001b[1;33m,\u001b[0m\u001b[1;33m\u001b[0m\u001b[1;33m\u001b[0m\u001b[0m\n",
      "\u001b[1;32mc:\\python\\python39\\lib\\site-packages\\tensorflow\\python\\data\\experimental\\ops\\readers.py\u001b[0m in \u001b[0;36mmake_csv_dataset_v2\u001b[1;34m(file_pattern, batch_size, column_names, column_defaults, label_name, select_columns, field_delim, use_quote_delim, na_value, header, num_epochs, shuffle, shuffle_buffer_size, shuffle_seed, prefetch_buffer_size, num_parallel_reads, sloppy, num_rows_for_inference, compression_type, ignore_errors)\u001b[0m\n\u001b[0;32m    521\u001b[0m     \u001b[1;31m# If column defaults are not provided, infer from records at graph\u001b[0m\u001b[1;33m\u001b[0m\u001b[1;33m\u001b[0m\u001b[1;33m\u001b[0m\u001b[0m\n\u001b[0;32m    522\u001b[0m     \u001b[1;31m# construction time\u001b[0m\u001b[1;33m\u001b[0m\u001b[1;33m\u001b[0m\u001b[1;33m\u001b[0m\u001b[0m\n\u001b[1;32m--> 523\u001b[1;33m     column_defaults = _infer_column_defaults(filenames, len(column_names),\n\u001b[0m\u001b[0;32m    524\u001b[0m                                              \u001b[0mfield_delim\u001b[0m\u001b[1;33m,\u001b[0m \u001b[0muse_quote_delim\u001b[0m\u001b[1;33m,\u001b[0m\u001b[1;33m\u001b[0m\u001b[1;33m\u001b[0m\u001b[0m\n\u001b[0;32m    525\u001b[0m                                              \u001b[0mna_value\u001b[0m\u001b[1;33m,\u001b[0m \u001b[0mheader\u001b[0m\u001b[1;33m,\u001b[0m\u001b[1;33m\u001b[0m\u001b[1;33m\u001b[0m\u001b[0m\n",
      "\u001b[1;32mc:\\python\\python39\\lib\\site-packages\\tensorflow\\python\\data\\experimental\\ops\\readers.py\u001b[0m in \u001b[0;36m_infer_column_defaults\u001b[1;34m(filenames, num_cols, field_delim, use_quote_delim, na_value, header, num_rows_for_inference, select_columns, file_io_fn)\u001b[0m\n\u001b[0;32m    137\u001b[0m   \u001b[0minferred_types\u001b[0m \u001b[1;33m=\u001b[0m \u001b[1;33m[\u001b[0m\u001b[1;32mNone\u001b[0m\u001b[1;33m]\u001b[0m \u001b[1;33m*\u001b[0m \u001b[0mlen\u001b[0m\u001b[1;33m(\u001b[0m\u001b[0mselect_columns\u001b[0m\u001b[1;33m)\u001b[0m\u001b[1;33m\u001b[0m\u001b[1;33m\u001b[0m\u001b[0m\n\u001b[0;32m    138\u001b[0m \u001b[1;33m\u001b[0m\u001b[0m\n\u001b[1;32m--> 139\u001b[1;33m   for i, csv_row in enumerate(\n\u001b[0m\u001b[0;32m    140\u001b[0m       _next_csv_row(filenames, num_cols, field_delim, use_quote_delim, header,\n\u001b[0;32m    141\u001b[0m                     file_io_fn)):\n",
      "\u001b[1;32mc:\\python\\python39\\lib\\site-packages\\tensorflow\\python\\data\\experimental\\ops\\readers.py\u001b[0m in \u001b[0;36m_next_csv_row\u001b[1;34m(filenames, num_cols, field_delim, use_quote_delim, header, file_io_fn)\u001b[0m\n\u001b[0;32m    123\u001b[0m       \u001b[1;32mfor\u001b[0m \u001b[0mcsv_row\u001b[0m \u001b[1;32min\u001b[0m \u001b[0mrdr\u001b[0m\u001b[1;33m:\u001b[0m\u001b[1;33m\u001b[0m\u001b[1;33m\u001b[0m\u001b[0m\n\u001b[0;32m    124\u001b[0m         \u001b[1;32mif\u001b[0m \u001b[0mlen\u001b[0m\u001b[1;33m(\u001b[0m\u001b[0mcsv_row\u001b[0m\u001b[1;33m)\u001b[0m \u001b[1;33m!=\u001b[0m \u001b[0mnum_cols\u001b[0m\u001b[1;33m:\u001b[0m\u001b[1;33m\u001b[0m\u001b[1;33m\u001b[0m\u001b[0m\n\u001b[1;32m--> 125\u001b[1;33m           raise ValueError(\n\u001b[0m\u001b[0;32m    126\u001b[0m               \u001b[1;34m\"Problem inferring types: CSV row has different number of fields \"\u001b[0m\u001b[1;33m\u001b[0m\u001b[1;33m\u001b[0m\u001b[0m\n\u001b[0;32m    127\u001b[0m               \"than expected.\")\n",
      "\u001b[1;31mValueError\u001b[0m: Problem inferring types: CSV row has different number of fields than expected."
     ]
    }
   ],
   "source": [
    "adult_csv_ds = tf.data.experimental.make_csv_dataset(\n",
    "    adults_file_path,\n",
    "    batch_size=5, # Artificially small to make examples easier to show.\n",
    "    label_name='age',\n",
    "    num_epochs=1,\n",
    "    ignore_errors=True,)"
   ]
  },
  {
   "cell_type": "code",
   "execution_count": null,
   "id": "62dbac32",
   "metadata": {},
   "outputs": [],
   "source": [
    "PROJECT_ID = '000_ADULT_ID'\n",
    "MODEL_NAME = 'ADULT_MODEL'\n",
    "VERSION_NAME = 'MAOAM'\n",
    "TARGET_FEATURE = 'mortgage_status'\n",
    "LABEL_VOCAB = ['denied', 'approved']\n",
    "\n",
    "\n",
    "\n",
    "config_builder = (WitConfigBuilder(adult_model)\n",
    "  .set_ai_platform_model(PROJECT_ID, MODEL_NAME, VERSION_NAME)\n",
    "  .set_target_feature(TARGET_FEATURE)\n",
    "  .set_label_vocab(LABEL_VOCAB))"
   ]
  },
  {
   "cell_type": "code",
   "execution_count": null,
   "id": "ced9b9e2",
   "metadata": {},
   "outputs": [],
   "source": []
  }
 ],
 "metadata": {
  "kernelspec": {
   "display_name": "Python 3 (ipykernel)",
   "language": "python",
   "name": "python3"
  },
  "language_info": {
   "codemirror_mode": {
    "name": "ipython",
    "version": 3
   },
   "file_extension": ".py",
   "mimetype": "text/x-python",
   "name": "python",
   "nbconvert_exporter": "python",
   "pygments_lexer": "ipython3",
   "version": "3.9.4"
  }
 },
 "nbformat": 4,
 "nbformat_minor": 5
}
